{
 "cells": [
  {
   "cell_type": "code",
   "execution_count": 1,
   "id": "7ee26ce6",
   "metadata": {},
   "outputs": [],
   "source": [
    "import pandas as pd\n",
    "import numpy as np\n",
    "import matplotlib.pyplot as plt"
   ]
  },
  {
   "cell_type": "code",
   "execution_count": 2,
   "id": "5a437517",
   "metadata": {},
   "outputs": [
    {
     "data": {
      "text/html": [
       "<div>\n",
       "<style scoped>\n",
       "    .dataframe tbody tr th:only-of-type {\n",
       "        vertical-align: middle;\n",
       "    }\n",
       "\n",
       "    .dataframe tbody tr th {\n",
       "        vertical-align: top;\n",
       "    }\n",
       "\n",
       "    .dataframe thead th {\n",
       "        text-align: right;\n",
       "    }\n",
       "</style>\n",
       "<table border=\"1\" class=\"dataframe\">\n",
       "  <thead>\n",
       "    <tr style=\"text-align: right;\">\n",
       "      <th></th>\n",
       "      <th>opening</th>\n",
       "      <th>wins</th>\n",
       "    </tr>\n",
       "  </thead>\n",
       "  <tbody>\n",
       "    <tr>\n",
       "      <th>0</th>\n",
       "      <td>queen's_pawn_game:_torre_attack</td>\n",
       "      <td>708.0</td>\n",
       "    </tr>\n",
       "    <tr>\n",
       "      <th>1</th>\n",
       "      <td>queen's_pawn_game:_torre_attack__breyer_variation</td>\n",
       "      <td>1.0</td>\n",
       "    </tr>\n",
       "    <tr>\n",
       "      <th>2</th>\n",
       "      <td>queen's_pawn_game:_torre_attack__gossip_variation</td>\n",
       "      <td>161.0</td>\n",
       "    </tr>\n",
       "    <tr>\n",
       "      <th>3</th>\n",
       "      <td>queen's_pawn_game:_torre_attack__gruenfeld_var...</td>\n",
       "      <td>58.0</td>\n",
       "    </tr>\n",
       "    <tr>\n",
       "      <th>4</th>\n",
       "      <td>queen's_pawn_game:_torre_attack__gruenfeld_var...</td>\n",
       "      <td>44.0</td>\n",
       "    </tr>\n",
       "  </tbody>\n",
       "</table>\n",
       "</div>"
      ],
      "text/plain": [
       "                                             opening   wins\n",
       "0                    queen's_pawn_game:_torre_attack  708.0\n",
       "1  queen's_pawn_game:_torre_attack__breyer_variation    1.0\n",
       "2  queen's_pawn_game:_torre_attack__gossip_variation  161.0\n",
       "3  queen's_pawn_game:_torre_attack__gruenfeld_var...   58.0\n",
       "4  queen's_pawn_game:_torre_attack__gruenfeld_var...   44.0"
      ]
     },
     "execution_count": 2,
     "metadata": {},
     "output_type": "execute_result"
    }
   ],
   "source": [
    "d = pd.read_csv('/Users/connormcdonald/Desktop/Masters/MIT805/Assignment 2/Results/event_win_counter.csv', '\\t')\n",
    "d.columns = ['opening', 'wins']\n",
    "d.loc[d.shape[0]] = [\"queen\\'s_pawn_game:_symmetrical_variation__pseudo-catalan\", 793.0]\n",
    "d.head()"
   ]
  },
  {
   "cell_type": "code",
   "execution_count": null,
   "id": "060f485f",
   "metadata": {},
   "outputs": [],
   "source": []
  },
  {
   "cell_type": "code",
   "execution_count": 3,
   "id": "1c61d0d3",
   "metadata": {},
   "outputs": [
    {
     "data": {
      "text/html": [
       "<div>\n",
       "<style scoped>\n",
       "    .dataframe tbody tr th:only-of-type {\n",
       "        vertical-align: middle;\n",
       "    }\n",
       "\n",
       "    .dataframe tbody tr th {\n",
       "        vertical-align: top;\n",
       "    }\n",
       "\n",
       "    .dataframe thead th {\n",
       "        text-align: right;\n",
       "    }\n",
       "</style>\n",
       "<table border=\"1\" class=\"dataframe\">\n",
       "  <thead>\n",
       "    <tr style=\"text-align: right;\">\n",
       "      <th></th>\n",
       "      <th>id</th>\n",
       "      <th>count</th>\n",
       "    </tr>\n",
       "  </thead>\n",
       "  <tbody>\n",
       "    <tr>\n",
       "      <th>0</th>\n",
       "      <td>queen's_pawn_game_#2</td>\n",
       "      <td>13432</td>\n",
       "    </tr>\n",
       "    <tr>\n",
       "      <th>1</th>\n",
       "      <td>queen's_pawn_game_#3</td>\n",
       "      <td>3903</td>\n",
       "    </tr>\n",
       "    <tr>\n",
       "      <th>2</th>\n",
       "      <td>queen's_pawn_game__zukertort_variation</td>\n",
       "      <td>15</td>\n",
       "    </tr>\n",
       "    <tr>\n",
       "      <th>3</th>\n",
       "      <td>queen's_pawn_opening:_veresov__richter_attack</td>\n",
       "      <td>204</td>\n",
       "    </tr>\n",
       "    <tr>\n",
       "      <th>4</th>\n",
       "      <td>queen's_pawn_opening:_veresov_attack__irish_ga...</td>\n",
       "      <td>239</td>\n",
       "    </tr>\n",
       "  </tbody>\n",
       "</table>\n",
       "</div>"
      ],
      "text/plain": [
       "                                                  id  count\n",
       "0                               queen's_pawn_game_#2  13432\n",
       "1                               queen's_pawn_game_#3   3903\n",
       "2             queen's_pawn_game__zukertort_variation     15\n",
       "3      queen's_pawn_opening:_veresov__richter_attack    204\n",
       "4  queen's_pawn_opening:_veresov_attack__irish_ga...    239"
      ]
     },
     "execution_count": 3,
     "metadata": {},
     "output_type": "execute_result"
    }
   ],
   "source": [
    "d2 = pd.read_csv('/Users/connormcdonald/Desktop/Masters/MIT805/Assignment 2/Results/event_opening_counter.csv', '\\t')\n",
    "d2.columns = ['id', 'count']\n",
    "d2.loc[d2.shape[0]] = [\"queen's_pawn_game:_zurich_gambit\",15]\n",
    "d2.head()"
   ]
  },
  {
   "cell_type": "code",
   "execution_count": null,
   "id": "a462868c",
   "metadata": {},
   "outputs": [],
   "source": []
  },
  {
   "cell_type": "code",
   "execution_count": 4,
   "id": "ee036108",
   "metadata": {},
   "outputs": [],
   "source": [
    "df = pd.merge(d, d2, left_on='opening', right_on='id', how='left').drop('id', axis=1)"
   ]
  },
  {
   "cell_type": "code",
   "execution_count": 5,
   "id": "9ca40a6b",
   "metadata": {},
   "outputs": [
    {
     "data": {
      "text/html": [
       "<div>\n",
       "<style scoped>\n",
       "    .dataframe tbody tr th:only-of-type {\n",
       "        vertical-align: middle;\n",
       "    }\n",
       "\n",
       "    .dataframe tbody tr th {\n",
       "        vertical-align: top;\n",
       "    }\n",
       "\n",
       "    .dataframe thead th {\n",
       "        text-align: right;\n",
       "    }\n",
       "</style>\n",
       "<table border=\"1\" class=\"dataframe\">\n",
       "  <thead>\n",
       "    <tr style=\"text-align: right;\">\n",
       "      <th></th>\n",
       "      <th>opening</th>\n",
       "      <th>wins</th>\n",
       "      <th>count</th>\n",
       "    </tr>\n",
       "  </thead>\n",
       "  <tbody>\n",
       "    <tr>\n",
       "      <th>0</th>\n",
       "      <td>queen's_pawn_game:_torre_attack</td>\n",
       "      <td>708.0</td>\n",
       "      <td>1415</td>\n",
       "    </tr>\n",
       "    <tr>\n",
       "      <th>1</th>\n",
       "      <td>queen's_pawn_game:_torre_attack__breyer_variation</td>\n",
       "      <td>1.0</td>\n",
       "      <td>4</td>\n",
       "    </tr>\n",
       "    <tr>\n",
       "      <th>2</th>\n",
       "      <td>queen's_pawn_game:_torre_attack__gossip_variation</td>\n",
       "      <td>161.0</td>\n",
       "      <td>361</td>\n",
       "    </tr>\n",
       "    <tr>\n",
       "      <th>3</th>\n",
       "      <td>queen's_pawn_game:_torre_attack__gruenfeld_var...</td>\n",
       "      <td>58.0</td>\n",
       "      <td>93</td>\n",
       "    </tr>\n",
       "    <tr>\n",
       "      <th>4</th>\n",
       "      <td>queen's_pawn_game:_torre_attack__gruenfeld_var...</td>\n",
       "      <td>44.0</td>\n",
       "      <td>91</td>\n",
       "    </tr>\n",
       "    <tr>\n",
       "      <th>...</th>\n",
       "      <td>...</td>\n",
       "      <td>...</td>\n",
       "      <td>...</td>\n",
       "    </tr>\n",
       "    <tr>\n",
       "      <th>2818</th>\n",
       "      <td>queen's_pawn_game:_morris_countergambit</td>\n",
       "      <td>15.0</td>\n",
       "      <td>29</td>\n",
       "    </tr>\n",
       "    <tr>\n",
       "      <th>2819</th>\n",
       "      <td>queen's_pawn_game:_steinitz_countergambit</td>\n",
       "      <td>316.0</td>\n",
       "      <td>681</td>\n",
       "    </tr>\n",
       "    <tr>\n",
       "      <th>2820</th>\n",
       "      <td>queen's_pawn_game:_stonewall_attack</td>\n",
       "      <td>949.0</td>\n",
       "      <td>1883</td>\n",
       "    </tr>\n",
       "    <tr>\n",
       "      <th>2821</th>\n",
       "      <td>queen's_pawn_game:_symmetrical_variation</td>\n",
       "      <td>1240.0</td>\n",
       "      <td>2541</td>\n",
       "    </tr>\n",
       "    <tr>\n",
       "      <th>2822</th>\n",
       "      <td>queen's_pawn_game:_symmetrical_variation__pseu...</td>\n",
       "      <td>793.0</td>\n",
       "      <td>1660</td>\n",
       "    </tr>\n",
       "  </tbody>\n",
       "</table>\n",
       "<p>2823 rows × 3 columns</p>\n",
       "</div>"
      ],
      "text/plain": [
       "                                                opening    wins  count\n",
       "0                       queen's_pawn_game:_torre_attack   708.0   1415\n",
       "1     queen's_pawn_game:_torre_attack__breyer_variation     1.0      4\n",
       "2     queen's_pawn_game:_torre_attack__gossip_variation   161.0    361\n",
       "3     queen's_pawn_game:_torre_attack__gruenfeld_var...    58.0     93\n",
       "4     queen's_pawn_game:_torre_attack__gruenfeld_var...    44.0     91\n",
       "...                                                 ...     ...    ...\n",
       "2818            queen's_pawn_game:_morris_countergambit    15.0     29\n",
       "2819          queen's_pawn_game:_steinitz_countergambit   316.0    681\n",
       "2820                queen's_pawn_game:_stonewall_attack   949.0   1883\n",
       "2821           queen's_pawn_game:_symmetrical_variation  1240.0   2541\n",
       "2822  queen's_pawn_game:_symmetrical_variation__pseu...   793.0   1660\n",
       "\n",
       "[2823 rows x 3 columns]"
      ]
     },
     "execution_count": 5,
     "metadata": {},
     "output_type": "execute_result"
    }
   ],
   "source": [
    "df"
   ]
  },
  {
   "cell_type": "code",
   "execution_count": 6,
   "id": "ea20d7ca",
   "metadata": {},
   "outputs": [],
   "source": [
    "df['win_rate'] = round(100*df['wins']/df['count'], 2)\n",
    "x = df[df['count'] > 1000]"
   ]
  },
  {
   "cell_type": "code",
   "execution_count": 9,
   "id": "8389e7de",
   "metadata": {},
   "outputs": [
    {
     "data": {
      "text/html": [
       "<div>\n",
       "<style scoped>\n",
       "    .dataframe tbody tr th:only-of-type {\n",
       "        vertical-align: middle;\n",
       "    }\n",
       "\n",
       "    .dataframe tbody tr th {\n",
       "        vertical-align: top;\n",
       "    }\n",
       "\n",
       "    .dataframe thead th {\n",
       "        text-align: right;\n",
       "    }\n",
       "</style>\n",
       "<table border=\"1\" class=\"dataframe\">\n",
       "  <thead>\n",
       "    <tr style=\"text-align: right;\">\n",
       "      <th></th>\n",
       "      <th>opening</th>\n",
       "      <th>wins</th>\n",
       "      <th>count</th>\n",
       "      <th>win_rate</th>\n",
       "    </tr>\n",
       "  </thead>\n",
       "  <tbody>\n",
       "    <tr>\n",
       "      <th>2122</th>\n",
       "      <td>king's_knight_opening</td>\n",
       "      <td>682.0</td>\n",
       "      <td>1097</td>\n",
       "      <td>62.17</td>\n",
       "    </tr>\n",
       "    <tr>\n",
       "      <th>318</th>\n",
       "      <td>scotch_game:_goering_gambit__double_pawn_sacri...</td>\n",
       "      <td>686.0</td>\n",
       "      <td>1123</td>\n",
       "      <td>61.09</td>\n",
       "    </tr>\n",
       "    <tr>\n",
       "      <th>1747</th>\n",
       "      <td>queen's_gambit_accepted:_saduleto_variation</td>\n",
       "      <td>634.0</td>\n",
       "      <td>1046</td>\n",
       "      <td>60.61</td>\n",
       "    </tr>\n",
       "    <tr>\n",
       "      <th>1504</th>\n",
       "      <td>scotch_game:_scotch_gambit</td>\n",
       "      <td>1323.0</td>\n",
       "      <td>2211</td>\n",
       "      <td>59.84</td>\n",
       "    </tr>\n",
       "    <tr>\n",
       "      <th>824</th>\n",
       "      <td>french_defense:_marshall_variation</td>\n",
       "      <td>644.0</td>\n",
       "      <td>1090</td>\n",
       "      <td>59.08</td>\n",
       "    </tr>\n",
       "  </tbody>\n",
       "</table>\n",
       "</div>"
      ],
      "text/plain": [
       "                                                opening    wins  count  \\\n",
       "2122                              king's_knight_opening   682.0   1097   \n",
       "318   scotch_game:_goering_gambit__double_pawn_sacri...   686.0   1123   \n",
       "1747        queen's_gambit_accepted:_saduleto_variation   634.0   1046   \n",
       "1504                         scotch_game:_scotch_gambit  1323.0   2211   \n",
       "824                  french_defense:_marshall_variation   644.0   1090   \n",
       "\n",
       "      win_rate  \n",
       "2122     62.17  \n",
       "318      61.09  \n",
       "1747     60.61  \n",
       "1504     59.84  \n",
       "824      59.08  "
      ]
     },
     "execution_count": 9,
     "metadata": {},
     "output_type": "execute_result"
    }
   ],
   "source": [
    "x = x.sort_values(by=['win_rate'],ascending=False).head(5)\n",
    "x"
   ]
  },
  {
   "cell_type": "code",
   "execution_count": 8,
   "id": "f65a84bc",
   "metadata": {
    "scrolled": true
   },
   "outputs": [
    {
     "data": {
      "image/png": "[encoded data removed]",
      "text/plain": [
       "<Figure size 900x600 with 1 Axes>"
      ]
     },
     "metadata": {
      "needs_background": "light"
     },
     "output_type": "display_data"
    }
   ],
   "source": [
    "plt.rcParams['figure.dpi'] =150\n",
    "fig = plt.figure()\n",
    "ax = fig.add_axes([0,0,1,1])\n",
    "Opening = x['opening']\n",
    "Win_rate = x['win_rate']\n",
    "ax.bar(Opening,Win_rate, color = 'black')\n",
    "plt.xticks(rotation=90)\n",
    "plt.ylabel('Win Rate %')\n",
    "plt.title('Top 5 most Efficient Openings')\n",
    "plt.show()"
   ]
  }
 ],
 "metadata": {
  "kernelspec": {
   "display_name": "Python 3",
   "language": "python",
   "name": "python3"
  },
  "language_info": {
   "codemirror_mode": {
    "name": "ipython",
    "version": 3
   },
   "file_extension": ".py",
   "mimetype": "text/x-python",
   "name": "python",
   "nbconvert_exporter": "python",
   "pygments_lexer": "ipython3",
   "version": "3.8.8"
  }
 },
 "nbformat": 4,
 "nbformat_minor": 5
}
